{
 "cells": [
  {
   "cell_type": "markdown",
   "id": "every-electricity",
   "metadata": {},
   "source": [
    "# Electronic Devices q4 HW 3"
   ]
  },
  {
   "cell_type": "code",
   "execution_count": 252,
   "id": "defined-torture",
   "metadata": {},
   "outputs": [],
   "source": [
    "import numpy as np\n",
    "import matplotlib.pyplot as plt\n",
    "%matplotlib inline\n",
    "plt.style.use('seaborn')"
   ]
  },
  {
   "cell_type": "markdown",
   "id": "particular-lambda",
   "metadata": {},
   "source": [
    "## part 1:\n"
   ]
  },
  {
   "cell_type": "markdown",
   "id": "traditional-underwear",
   "metadata": {},
   "source": [
    "### constants :\n",
    "$\n",
    "TK_b=0.026 ev , \\mu_p=400\\frac{cm^2}{sec} , D_p=10\\frac{cm^2}{sec} , N_0=10^{17}cm^{-3}, x_0=1.25 \\mu\n",
    "m,\n",
    "$\n",
    "$N_A=N_0\\exp^{\\frac{-x}{x_0}}, n_i=10^{10}cm^{-3},E_g=1.12 ev, E_v(x=0)=0 ev$\n"
   ]
  },
  {
   "cell_type": "code",
   "execution_count": 267,
   "id": "mounted-index",
   "metadata": {},
   "outputs": [],
   "source": [
    "\n",
    "KT=0.026\n",
    "MUp=400\n",
    "Dp=10\n",
    "N0=10**17\n",
    "x0=1.25*10**(-4)\n",
    "Na=N0*np.exp(-x/x0)\n",
    "ni=10**10\n",
    "Eg=1.12\n",
    "Ei=Eg/2\n",
    "Ev0=0\n",
    "q=1.6*10**(-19)\n",
    "x=np.linspace(0,10**-3)\n"
   ]
  },
  {
   "cell_type": "markdown",
   "id": "wired-school",
   "metadata": {},
   "source": [
    "### Equations:\n",
    "$$\n",
    "p(x)=N_A=N_0\\exp^{\\frac{-x}{x_0}}\n",
    "$$\n",
    "\n",
    "$$\n",
    "n(x)=\\frac{n_i^2}{N_0}\\exp^{\\frac{x}{x_0}}\n",
    "$$\n",
    "\n",
    "$$\\frac{dp}{dx}=\\frac{-N_0}{x_0}\\exp^{\\frac{-x}{x_0}}$$\n",
    "\n",
    "$$0=qD_p\\frac{dp}{dx}-qp\\mu_p\\varepsilon \\rightarrow qD_p\\frac{dp}{dx}=qp\\mu_p\\varepsilon \\rightarrow \\varepsilon=\\frac{-1}{x_0}\\frac{D_p}{\\mu_p}$$\n",
    "\n",
    "$$\n",
    "q\\varepsilon=\\frac{dE_c}{dx}=\\frac{dE_v}{dx}\\Rightarrow \\frac{dE_c}{dx}=\\frac{dE_v}{dx}=\\frac{-q}{x_0}\\frac{D_p}{\\mu_p}\n",
    "$$\n",
    "\n",
    "$$ E_c=\\frac{dE_c}{dx}x+E_c(x=0)\\Rightarrow E_c=\\frac{dE_c}{dx}x+E_g\n",
    "$$\n",
    "\n",
    "$$E_v=\\frac{dE_v}{dx}x+E_v(x=0)\\Rightarrow E_v=\\frac{dE_v}{dx}x $$\n",
    "\n",
    "$$\n",
    "E_f=KT\\ln(\\frac{n_i}{N_0}\\exp^{\\frac{x}{x_0}})+E_i\n",
    "$$"
   ]
  },
  {
   "cell_type": "code",
   "execution_count": 268,
   "id": "floppy-vancouver",
   "metadata": {},
   "outputs": [],
   "source": [
    "e=(-1/x0)*(KT/q)\n",
    "dEc_dx=q*e\n",
    "dEv_dx=q*e\n",
    "dEi_dx=q*e\n",
    "Ef=KT*np.log((ni/N0)*np.exp(x/x0))+Eg/2\n"
   ]
  },
  {
   "cell_type": "code",
   "execution_count": 269,
   "id": "liberal-circulation",
   "metadata": {},
   "outputs": [
    {
     "data": {
      "image/png": "[encoded data removed]",
      "text/plain": [
       "<Figure size 576x576 with 1 Axes>"
      ]
     },
     "metadata": {},
     "output_type": "display_data"
    }
   ],
   "source": [
    "fig ,ax=plt.subplots(figsize=(8,8))\n",
    "\n",
    "ax.plot(x,dEc_dx*x+Eg);\n",
    "ax.plot(x,Ef)\n",
    "ax.plot(x,dEv_dx*x)\n",
    "ax.plot(x,dEi_dx*x+Eg/2);\n",
    "\n",
    "ax.set(xlabel='x [cm]',ylabel='E(x) [ev]')\n",
    "ax.legend(['Ec','Ef','Ev','Ei'],loc='upper right', bbox_to_anchor=(0.8, 0.8) )\n",
    "ax.set_xlim(0,0.0001);\n"
   ]
  },
  {
   "cell_type": "markdown",
   "id": "becoming-chancellor",
   "metadata": {},
   "source": [
    "## Part 2:"
   ]
  },
  {
   "cell_type": "markdown",
   "id": "instrumental-compound",
   "metadata": {},
   "source": [
    "### constants:\n",
    "$\n",
    "TK_b=0.026 ev ,  N_0=10^{17}cm^{-3}, \\alpha=1.5 \\mu\n",
    "m,\n",
    "$\n",
    "$N_A=N_0\\exp^{-(\\frac{x}{\\alpha})^2}, n_i=10^{10}cm^{-3},E_g=1.12 ev, E_v(x=0)=0 ev$"
   ]
  },
  {
   "cell_type": "markdown",
   "id": "swedish-visiting",
   "metadata": {},
   "source": [
    "### Equations part 2:\n",
    "$$\n",
    "p(x)=N_A=N_0\\exp^{-(\\frac{x}{\\alpha})^2}\n",
    "$$\n",
    "\n",
    "$$\n",
    "n(x)=\\frac{n_i^2}{N_0}\\exp^{-(\\frac{x}{\\alpha})^2}\n",
    "$$\n",
    "\n",
    "$$\\frac{dp}{dx}=\\frac{-2xN_0}{\\alpha^2}\\exp^{-(\\frac{x}{\\alpha})^2}$$\n",
    "\n",
    "$$0=qD_p\\frac{dp}{dx}-qp\\mu_p\\varepsilon \\rightarrow qD_p\\frac{dp}{dx}=qp\\mu_p\\varepsilon \\rightarrow \\varepsilon=\\frac{-2x}{\\alpha^2}\\frac{D_p}{\\mu_p}=\\frac{-2x}{\\alpha^2}\\frac{KT}{q}$$\n",
    "\n",
    "$$\n",
    "q\\varepsilon=\\frac{dE_c}{dx}=\\frac{dE_v}{dx}\\Rightarrow \\frac{dE_c}{dx}=\\frac{dE_v}{dx}=\\frac{-2qx}{\\alpha^2}\\frac{D_p}{\\mu_p}\n",
    "$$\n",
    "\n",
    "$$ E_c=\\frac{dE_c}{dx}x+E_c(x=0)\\Rightarrow E_c=\\frac{dE_c}{dx}x+E_g\n",
    "$$\n",
    "\n",
    "$$E_v=\\frac{dE_v}{dx}x+E_v(x=0)\\Rightarrow E_v=\\frac{dE_v}{dx}x $$\n",
    "\n",
    "$$\n",
    "E_f=KT\\ln(\\frac{n_i}{N_0}\\exp^{-(\\frac{x}{\\alpha})^2})+E_i\n",
    "$$"
   ]
  },
  {
   "cell_type": "code",
   "execution_count": 270,
   "id": "molecular-beads",
   "metadata": {},
   "outputs": [],
   "source": [
    "N0_2=10**17\n",
    "alpha=1.5*10**(-4)\n",
    "Na_2=N0_2*np.exp((-x/alpha)**2)\n"
   ]
  },
  {
   "cell_type": "code",
   "execution_count": 295,
   "id": "fewer-conservation",
   "metadata": {},
   "outputs": [],
   "source": [
    "e=((-2*x)/(alpha**2))*(KT/q)\n",
    "dEc2_dx=q*e\n",
    "dEv2_dx=q*e\n",
    "dEi2_dx=q*e\n",
    "Ef2=KT*np.log((ni/N0_2)*np.exp(-(x/alpha)**2))+Eg/2"
   ]
  },
  {
   "cell_type": "code",
   "execution_count": 297,
   "id": "satisfied-starter",
   "metadata": {},
   "outputs": [
    {
     "data": {
      "image/png": "[encoded data removed]",
      "text/plain": [
       "<Figure size 576x576 with 1 Axes>"
      ]
     },
     "metadata": {},
     "output_type": "display_data"
    }
   ],
   "source": [
    "fig ,ax=plt.subplots(figsize=(8,8))\n",
    "\n",
    "ax.plot(x,dEc2_dx*x+Eg);\n",
    "ax.plot(x,Ef2)\n",
    "ax.plot(x,dEv2_dx*x)\n",
    "ax.plot(x,dEi2_dx*x+Eg/2);\n",
    "\n",
    "ax.set(xlabel='x [cm]',ylabel='E(x) [ev]')\n",
    "ax.legend(['Ec','Ef','Ev','Ei'],loc='upper right', bbox_to_anchor=(0.8, 0.8) )\n",
    "ax.set_xlim(0,0.0001)\n",
    "ax.set_ylim(-0.5);"
   ]
  },
  {
   "cell_type": "code",
   "execution_count": null,
   "id": "increased-anniversary",
   "metadata": {},
   "outputs": [],
   "source": []
  },
  {
   "cell_type": "code",
   "execution_count": null,
   "id": "engaged-presentation",
   "metadata": {},
   "outputs": [],
   "source": []
  }
 ],
 "metadata": {
  "kernelspec": {
   "display_name": "Python 3",
   "language": "python",
   "name": "python3"
  },
  "language_info": {
   "codemirror_mode": {
    "name": "ipython",
    "version": 3
   },
   "file_extension": ".py",
   "mimetype": "text/x-python",
   "name": "python",
   "nbconvert_exporter": "python",
   "pygments_lexer": "ipython3",
   "version": "3.9.0"
  },
  "latex_envs": {
   "LaTeX_envs_menu_present": true,
   "autoclose": true,
   "autocomplete": true,
   "bibliofile": "biblio.bib",
   "cite_by": "apalike",
   "current_citInitial": 1,
   "eqLabelWithNumbers": true,
   "eqNumInitial": 1,
   "hotkeys": {
    "equation": "alt-="
   },
   "labels_anchors": false,
   "latex_user_defs": false,
   "report_style_numbering": false,
   "user_envs_cfg": false
  },
  "toc": {
   "base_numbering": 1,
   "nav_menu": {},
   "number_sections": true,
   "sideBar": true,
   "skip_h1_title": false,
   "title_cell": "Table of Contents",
   "title_sidebar": "Contents",
   "toc_cell": false,
   "toc_position": {},
   "toc_section_display": true,
   "toc_window_display": false
  }
 },
 "nbformat": 4,
 "nbformat_minor": 5
}
